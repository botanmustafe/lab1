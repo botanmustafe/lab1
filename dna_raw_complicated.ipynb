{
 "cells": [
  {
   "cell_type": "code",
   "execution_count": 1,
   "id": "e593840b",
   "metadata": {},
   "outputs": [],
   "source": [
    "import matplotlib.pyplot as plt"
   ]
  },
  {
   "cell_type": "code",
   "execution_count": null,
   "id": "6a1abd49",
   "metadata": {},
   "outputs": [],
   "source": [
    "# this opens the dna-file and saves it as f\n",
    "# i used \"with open\" for the file to close automatically then im done working with it.\n",
    "with open(\"dna_raw_complicated.txt\") as f: # i changed the file name for the bonus task\n",
    "    lines = f.readlines()\n",
    "\n",
    "# i used 3 variables to process the dna-sequances\n",
    "sequences = {}  #a empty dictionary for storage\n",
    "sequence_seq = None # this will store the name of the sequence (seq1,seq2...)\n",
    "sequence_dna = \"\"     # this will store the actuall sequence-ID (DNA)\n",
    "\n",
    "\n",
    "# loops through every line\n",
    "# removes whitespace and newline character (\\n)\n",
    "for line in lines:\n",
    "    line = line.strip()\n",
    "\n",
    "    \n",
    "    if not line:        # skips empty lines if there are any\n",
    "        continue\n",
    "\n",
    "# if the line starts with \">\" it means its a new seq\n",
    "# if we already have a seq saved in the variables above, add it do the dictionary\n",
    "    if line.startswith(\">\"):\n",
    "\n",
    "# if a sequence already exsist, this if-statement saves it before starting a new\n",
    "# this makes sure we dont lose previous dna sequence\n",
    "\n",
    "        if sequence_seq is not None:\n",
    "            sequences[sequence_seq] = sequence_dna\n",
    "        \n",
    "        # deletes the \">\" sign and saves the name \"seq1\"\n",
    "        sequence_seq = line[1:]\n",
    "        sequence_dna = \"\"  # clears the dna before reading the next one\n",
    "        \n",
    "        # if the line dont start with \">\", it means its a dna-line and i add it to the actuall dna-string\n",
    "        \n",
    "    else:\n",
    "        sequence_dna += line\n",
    "\n",
    "\n",
    "# after the loop i have to save the last seq as well.\n",
    "\n",
    "if sequence_seq is not None:\n",
    "    sequences[sequence_seq] = sequence_dna\n",
    "\n",
    "print(sequences)\n",
    "   \n",
    "\n",
    "\n",
    "\n",
    "    "
   ]
  },
  {
   "cell_type": "code",
   "execution_count": null,
   "id": "98cfc68e",
   "metadata": {},
   "outputs": [],
   "source": [
    "# this is a function that counts the different letters (a, t, c, g)\n",
    "# it treats big and small letters the same \n",
    "# it ignores letters and signs that we dont need like (/, or n)\n",
    "\n",
    "def count_dna_bases(dna: str) -> dict:\n",
    "    dna = dna.lower() \n",
    "    valid_letters = {\"a\", \"t\", \"c\", \"g\"}\n",
    "    count = {b: 0 for b in valid_letters} \n",
    "\n",
    "                        # counts only valid letters\n",
    "    for letter in dna:\n",
    "        if letter in valid_letters:   \n",
    "            count[letter] += 1\n",
    "    return count\n",
    "\n",
    "# this empty dictionary will store all sequences from the file\n",
    "results = {}\n",
    "\n",
    "# i got help from ai to understand how to structure this loop.\n",
    "# loop through each sequence\n",
    "# calls the function for each dna sequence\n",
    "# stores the result\n",
    "for seq, dna in sequences.items():\n",
    "    count = count_dna_bases(dna)\n",
    "    results[seq] = count\n",
    "        "
   ]
  },
  {
   "cell_type": "code",
   "execution_count": null,
   "id": "0d54eb0f",
   "metadata": {},
   "outputs": [],
   "source": [
    "# this is the graph and shows the result on the x and y-axes\n",
    "# (this part i got help finding the structure from Zakaria in the class)\n",
    "\n",
    "import matplotlib.pyplot as plt\n",
    "\n",
    "for name, count in results.items():\n",
    "    plt.bar(count.keys(), count.values())\n",
    "    plt.title(\"DNA letter count for \" + name)\n",
    "    plt.xlabel(\"DNA letter\")\n",
    "    plt.ylabel(\"Count\")\n",
    "    plt.show()"
   ]
  },
  {
   "cell_type": "markdown",
   "id": "5f18f000",
   "metadata": {},
   "source": [
    "#Structure:\n",
    "* Import package\n",
    "* Read file\n",
    "* Count letters in seq\n",
    "* Make the grafs\n",
    "\n"
   ]
  },
  {
   "cell_type": "markdown",
   "id": "ac63ba26",
   "metadata": {},
   "source": []
  }
 ],
 "metadata": {
  "kernelspec": {
   "display_name": "Python 3",
   "language": "python",
   "name": "python3"
  },
  "language_info": {
   "codemirror_mode": {
    "name": "ipython",
    "version": 3
   },
   "file_extension": ".py",
   "mimetype": "text/x-python",
   "name": "python",
   "nbconvert_exporter": "python",
   "pygments_lexer": "ipython3",
   "version": "3.12.10"
  }
 },
 "nbformat": 4,
 "nbformat_minor": 5
}
