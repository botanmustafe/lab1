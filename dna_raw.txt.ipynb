{
 "cells": [
  {
   "cell_type": "code",
   "execution_count": 1,
   "id": "234d602d",
   "metadata": {},
   "outputs": [],
   "source": [
    "import matplotlib.pyplot as plt"
   ]
  },
  {
   "cell_type": "code",
   "execution_count": null,
   "id": "f03e2eb7",
   "metadata": {},
   "outputs": [],
   "source": [
    "# this opens the dna-file and saves it as f\n",
    "# i used \"with open\" for the file to close automatically when im done working with it.\n",
    "with open(\"dna_raw.txt\") as f:\n",
    "    data = f.readlines()\n",
    "\n",
    "# i used 3 variables to process the dna-sequances\n",
    "sequences = {}  #a empty dictionary for storage\n",
    "sequence_name = None # this will store the name of the sequence (seq1,seq2...)\n",
    "sequence_dna = \"\"     # this will store the actuall sequence-ID (DNA)\n",
    "\n",
    "\n",
    "# loops through every line in file\n",
    "# removes whitespace and newline character (\\n)\n",
    "for line in data:\n",
    "    line = line.strip()\n",
    "\n",
    "    \n",
    "    if not line:        # skips empty lines if there are any\n",
    "        continue\n",
    "\n",
    "\n",
    "# if the line starts with \">\" it means its a new seq\n",
    "# if we already have a seq saved in the variables above, add it do the dictionary\n",
    "    if line.startswith(\">\"):\n",
    "        if sequence_name:\n",
    "            sequences[sequence_name] = sequence_dna\n",
    "        \n",
    "        # deletes the \">\" sign and saves the name \"seq1\"\n",
    "        sequence_name = line[1:]\n",
    "        sequence_dna = \"\"\n",
    "        \n",
    "        # if the line dont start with \">\", it means its a dna-line and i add it to the actuall dna-string\n",
    "        \n",
    "    else:\n",
    "        sequence_dna += line\n",
    "\n",
    "\n",
    "# after the loop i have to save the last seq as well.\n",
    "\n",
    "if sequence_name:\n",
    "    sequences[sequence_name] = sequence_dna\n",
    "\n",
    "    \n",
    "\n",
    "    \n",
    "\n",
    "\n",
    "\n",
    "\n",
    "\n",
    "\n"
   ]
  },
  {
   "cell_type": "markdown",
   "id": "a4da2535",
   "metadata": {},
   "source": [
    "#Structure:\n",
    "* Import package\n",
    "* Read file\n",
    "* Count letters in seq\n",
    "* Make the grafs"
   ]
  }
 ],
 "metadata": {
  "kernelspec": {
   "display_name": "Python 3",
   "language": "python",
   "name": "python3"
  },
  "language_info": {
   "codemirror_mode": {
    "name": "ipython",
    "version": 3
   },
   "file_extension": ".py",
   "mimetype": "text/x-python",
   "name": "python",
   "nbconvert_exporter": "python",
   "pygments_lexer": "ipython3",
   "version": "3.12.10"
  }
 },
 "nbformat": 4,
 "nbformat_minor": 5
}
