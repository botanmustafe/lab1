{
 "cells": [
  {
   "cell_type": "code",
   "execution_count": null,
   "id": "234d602d",
   "metadata": {},
   "outputs": [],
   "source": [
    "\n",
    "import matplotlib.pyplot as plt"
   ]
  },
  {
   "cell_type": "code",
   "execution_count": null,
   "id": "f03e2eb7",
   "metadata": {},
   "outputs": [],
   "source": [
    "# this opens the dna-file and saves it as f\n",
    "# i used \"with open\" for the file to close automatically when im done working with it.\n",
    "with open(\"dna_raw.txt\") as f:\n",
    "    data = f.readlines()\n",
    "\n",
    "# i used 3 variables to process the dna-sequances\n",
    "sequences = {}  #a empty dictionary for storage\n",
    "sequence_name = None # this will store the name of the sequence (seq1,seq2...)\n",
    "sequence_dna = \"\"     # this will store the actuall sequence-ID (DNA)\n",
    "\n",
    "\n",
    "# loops through every line in file\n",
    "# removes whitespace and newline character (\\n)\n",
    "for line in data:\n",
    "    line = line.strip()\n",
    "\n",
    "    \n",
    "    if not line:        # skips empty lines if there are any\n",
    "        continue\n",
    "\n",
    "\n",
    "# if the line starts with \">\" it means its a new seq\n",
    "# if we already have a seq saved in the variables above, add it do the dictionary\n",
    "    if line.startswith(\">\"):\n",
    "        if sequence_name:\n",
    "            sequences[sequence_name] = sequence_dna\n",
    "        \n",
    "        # deletes the \">\" sign and saves the name \"seq1\"\n",
    "        sequence_name = line[1:]\n",
    "        sequence_dna = \"\"\n",
    "        \n",
    "        # if the line dont start with \">\", it means its a dna-line and i add it to the actuall dna-string\n",
    "        \n",
    "    else:\n",
    "        sequence_dna += line\n",
    "\n",
    "\n",
    "# after the loop i have to save the last seq as well.\n",
    "\n",
    "if sequence_name:\n",
    "    sequences[sequence_name] = sequence_dna\n",
    "   \n",
    "\n",
    "    \n",
    "\n",
    "    \n",
    "\n",
    "\n",
    "\n",
    "\n",
    "\n",
    "\n"
   ]
  },
  {
   "cell_type": "code",
   "execution_count": 18,
   "id": "05088ba3",
   "metadata": {},
   "outputs": [
    {
     "name": "stdout",
     "output_type": "stream",
     "text": [
      "{'seq1': {'t': 7, 'a': 17, 'c': 8, 'g': 2}}\n",
      "{'seq1': {'t': 7, 'a': 17, 'c': 8, 'g': 2}, 'seq2': {'t': 7, 'a': 3, 'c': 4, 'g': 10}}\n",
      "{'seq1': {'t': 7, 'a': 17, 'c': 8, 'g': 2}, 'seq2': {'t': 7, 'a': 3, 'c': 4, 'g': 10}, 'seq3': {'t': 10, 'a': 18, 'c': 16, 'g': 16}}\n",
      "{'seq1': {'t': 7, 'a': 17, 'c': 8, 'g': 2}, 'seq2': {'t': 7, 'a': 3, 'c': 4, 'g': 10}, 'seq3': {'t': 10, 'a': 18, 'c': 16, 'g': 16}, 'seq4': {'t': 10, 'a': 13, 'c': 11, 'g': 18}}\n"
     ]
    }
   ],
   "source": [
    "# this is a function that counts the different letters in the dna-string (a,t,c,g)\n",
    "# treats big and small letters the same\n",
    "# ignores letters and signs that we want to ignore ('/' , 'n' or spaces)\n",
    "\n",
    "def count_bases(dna: str) -> dict:\n",
    "    dna = dna.lower()\n",
    "    validerade = {\"a\", \"t\", \"c\", \"g\"} # ????????????????????????\n",
    "    counts = {b: 0 for b in validerade}\n",
    "    for ch in dna:\n",
    "        if ch in validerade:\n",
    "            counts[ch] += 1\n",
    "    return counts\n",
    "\n",
    "\n",
    "# empty dictionary, im gonna store the different seq here. \"a, t, c, g\"\n",
    "results = {}\n",
    "for name, dna in sequences.items():\n",
    "    counts = count_bases(dna)\n",
    "    results[name] = counts\n",
    "    print(results)\n",
    "\n",
    "\n",
    "    "
   ]
  },
  {
   "cell_type": "code",
   "execution_count": null,
   "id": "6135eb48",
   "metadata": {},
   "outputs": [],
   "source": [
    "# this is the graph and shows the result on the x and y-axes\n",
    "import matplotlib.pyplot as plt\n",
    "\n",
    "for name, counts in results.items():\n",
    "    plt.bar(counts.keys(), counts.values())\n",
    "    plt.title(\"DNA letter count for \" + name)\n",
    "    plt.xlabel(\"DNA letter\")\n",
    "    plt.ylabel(\"count\")\n",
    "    plt.show()"
   ]
  },
  {
   "cell_type": "markdown",
   "id": "a4da2535",
   "metadata": {},
   "source": [
    "#Structure:\n",
    "* Import package\n",
    "* Read file\n",
    "* Count letters in seq\n",
    "* Make the grafs\n",
    "\n",
    "Comments: The code is written by me but i had assistans by classmates and AI, the code is tested and understanded.\n"
   ]
  }
 ],
 "metadata": {
  "kernelspec": {
   "display_name": "Python 3",
   "language": "python",
   "name": "python3"
  },
  "language_info": {
   "codemirror_mode": {
    "name": "ipython",
    "version": 3
   },
   "file_extension": ".py",
   "mimetype": "text/x-python",
   "name": "python",
   "nbconvert_exporter": "python",
   "pygments_lexer": "ipython3",
   "version": "3.12.10"
  }
 },
 "nbformat": 4,
 "nbformat_minor": 5
}
